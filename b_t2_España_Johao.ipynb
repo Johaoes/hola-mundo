{
  "nbformat": 4,
  "nbformat_minor": 0,
  "metadata": {
    "colab": {
      "provenance": [],
      "authorship_tag": "ABX9TyOF0p/f8/h7xwswmGELL8hP",
      "include_colab_link": true
    },
    "kernelspec": {
      "name": "python3",
      "display_name": "Python 3"
    },
    "language_info": {
      "name": "python"
    }
  },
  "cells": [
    {
      "cell_type": "markdown",
      "metadata": {
        "id": "view-in-github",
        "colab_type": "text"
      },
      "source": [
        "<a href=\"https://colab.research.google.com/github/Johaoes/hola-mundo/blob/main/b_t2_Espa%C3%B1a_Johao.ipynb\" target=\"_parent\"><img src=\"https://colab.research.google.com/assets/colab-badge.svg\" alt=\"Open In Colab\"/></a>"
      ]
    },
    {
      "cell_type": "code",
      "execution_count": 1,
      "metadata": {
        "colab": {
          "base_uri": "https://localhost:8080/"
        },
        "id": "A5A1DqlekqJI",
        "outputId": "1935cee1-5b19-458f-b56a-c40dde09a3fa"
      },
      "outputs": [
        {
          "output_type": "stream",
          "name": "stdout",
          "text": [
            "Hola Mundo\n"
          ]
        }
      ],
      "source": [
        "#1. Hola Mundo\n",
        "\n",
        "print(\"Hola Mundo\")"
      ]
    },
    {
      "cell_type": "code",
      "source": [
        "#Suma de dos numeros\n",
        "def suma_num(num1, num2):\n",
        "  suma = num1 + num2\n",
        "  return suma\n",
        "\n",
        "numero1 = float(input(\"Introduce un numero: \"))\n",
        "numero2 = float(input(\"Introduce otro numero: \"))\n",
        "\n",
        "resultado = suma_num (numero1, numero2)\n",
        "print(\"El resultado es: \", resultado)"
      ],
      "metadata": {
        "colab": {
          "base_uri": "https://localhost:8080/"
        },
        "id": "AhM6XuDXkwig",
        "outputId": "c4900172-d42b-490f-e7de-3f1733b22101"
      },
      "execution_count": 5,
      "outputs": [
        {
          "output_type": "stream",
          "name": "stdout",
          "text": [
            "Introduce un numero: 5\n",
            "Introduce otro numero: 10\n",
            "El resultado es:  15.0\n"
          ]
        }
      ]
    },
    {
      "cell_type": "code",
      "source": [
        "#Par o Impar:\n",
        "def par_impar(numero):\n",
        "  if numero %2 == 0:\n",
        "    return \"El numero es par\"\n",
        "  else:\n",
        "    return \"El numero es impar\"\n",
        "\n",
        "numero = int(input(\"Introduce un numero: \"))\n",
        "print(par_impar(numero))"
      ],
      "metadata": {
        "colab": {
          "base_uri": "https://localhost:8080/"
        },
        "id": "9jWncPcPliHB",
        "outputId": "444ed966-1483-4cdb-c41d-5e45fd9c08ea"
      },
      "execution_count": 7,
      "outputs": [
        {
          "output_type": "stream",
          "name": "stdout",
          "text": [
            "Introduce un numero: 57\n",
            "El numero es impar\n"
          ]
        }
      ]
    },
    {
      "cell_type": "code",
      "source": [
        "#Calculadora Básica\n",
        "def suma(num1, num2):\n",
        "    return num1 + num2\n",
        "\n",
        "def resta(num1, num2):\n",
        "    return num1 - num2\n",
        "\n",
        "def multiplicacion(num1, num2):\n",
        "    return num1 * num2\n",
        "\n",
        "def division(num1, num2):\n",
        "    if num2 != 0:\n",
        "        return num1 / num2\n",
        "    else:\n",
        "        return \"No se puede dividir entre cero\"\n",
        "\n",
        "num1 = float(input(\"Ingrese un numero: \"))\n",
        "num2 = float(input(\"Ingrese otro numero: \"))\n",
        "\n",
        "print(\"Suma: \", suma(num1, num2))\n",
        "print(\"Resta: \", resta(num1, num2))\n",
        "print(\"Multiplicacion: \", multiplicacion(num1, num2))\n",
        "print(\"Division: \", division(num1, num2))"
      ],
      "metadata": {
        "colab": {
          "base_uri": "https://localhost:8080/",
          "height": 245
        },
        "id": "YMacQQqvmtwu",
        "outputId": "4eb76369-4752-4c03-eabb-633bbbdcc2bf"
      },
      "execution_count": 19,
      "outputs": [
        {
          "name": "stdout",
          "output_type": "stream",
          "text": [
            "Ingrese un numero: 14\n",
            "Ingrese otro numero: 2\n"
          ]
        },
        {
          "output_type": "error",
          "ename": "TypeError",
          "evalue": "'tuple' object is not callable",
          "traceback": [
            "\u001b[0;31m---------------------------------------------------------------------------\u001b[0m",
            "\u001b[0;31mTypeError\u001b[0m                                 Traceback (most recent call last)",
            "\u001b[0;32m<ipython-input-19-69dcf0310577>\u001b[0m in \u001b[0;36m<cell line: 20>\u001b[0;34m()\u001b[0m\n\u001b[1;32m     18\u001b[0m \u001b[0mnum2\u001b[0m \u001b[0;34m=\u001b[0m \u001b[0mfloat\u001b[0m\u001b[0;34m(\u001b[0m\u001b[0minput\u001b[0m\u001b[0;34m(\u001b[0m\u001b[0;34m\"Ingrese otro numero: \"\u001b[0m\u001b[0;34m)\u001b[0m\u001b[0;34m)\u001b[0m\u001b[0;34m\u001b[0m\u001b[0;34m\u001b[0m\u001b[0m\n\u001b[1;32m     19\u001b[0m \u001b[0msuma\u001b[0m \u001b[0;34m=\u001b[0m \u001b[0msuma\u001b[0m\u001b[0;34m(\u001b[0m\u001b[0mnum1\u001b[0m\u001b[0;34m,\u001b[0m \u001b[0mnum2\u001b[0m\u001b[0;34m)\u001b[0m\u001b[0;34m\u001b[0m\u001b[0;34m\u001b[0m\u001b[0m\n\u001b[0;32m---> 20\u001b[0;31m \u001b[0mprint\u001b[0m\u001b[0;34m(\u001b[0m\u001b[0;34m\"Suma: \"\u001b[0m\u001b[0;34m,\u001b[0m \u001b[0msuma\u001b[0m\u001b[0;34m)\u001b[0m\u001b[0;34m\u001b[0m\u001b[0;34m\u001b[0m\u001b[0m\n\u001b[0m\u001b[1;32m     21\u001b[0m \u001b[0mprint\u001b[0m\u001b[0;34m(\u001b[0m\u001b[0;34m\"Resta: \"\u001b[0m\u001b[0;34m,\u001b[0m \u001b[0mresta\u001b[0m\u001b[0;34m(\u001b[0m\u001b[0mnum1\u001b[0m\u001b[0;34m,\u001b[0m \u001b[0mnum2\u001b[0m\u001b[0;34m)\u001b[0m\u001b[0;34m)\u001b[0m\u001b[0;34m\u001b[0m\u001b[0;34m\u001b[0m\u001b[0m\n\u001b[1;32m     22\u001b[0m \u001b[0mprint\u001b[0m\u001b[0;34m(\u001b[0m\u001b[0;34m\"Multiplicacion: \"\u001b[0m\u001b[0;34m,\u001b[0m \u001b[0mmultiplicacion\u001b[0m\u001b[0;34m(\u001b[0m\u001b[0mnum1\u001b[0m\u001b[0;34m,\u001b[0m \u001b[0mnum2\u001b[0m\u001b[0;34m)\u001b[0m\u001b[0;34m)\u001b[0m\u001b[0;34m\u001b[0m\u001b[0;34m\u001b[0m\u001b[0m\n",
            "\u001b[0;31mTypeError\u001b[0m: 'tuple' object is not callable"
          ]
        }
      ]
    }
  ]
}