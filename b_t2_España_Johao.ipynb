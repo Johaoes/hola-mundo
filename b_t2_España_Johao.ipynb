{
  "nbformat": 4,
  "nbformat_minor": 0,
  "metadata": {
    "colab": {
      "provenance": [],
      "include_colab_link": true
    },
    "kernelspec": {
      "name": "python3",
      "display_name": "Python 3"
    },
    "language_info": {
      "name": "python"
    }
  },
  "cells": [
    {
      "cell_type": "markdown",
      "metadata": {
        "id": "view-in-github",
        "colab_type": "text"
      },
      "source": [
        "<a href=\"https://colab.research.google.com/github/Johaoes/hola-mundo/blob/main/Copy_of_b_t2_Espa%C3%B1a_Johao.ipynb\" target=\"_parent\"><img src=\"https://colab.research.google.com/assets/colab-badge.svg\" alt=\"Open In Colab\"/></a>"
      ]
    },
    {
      "cell_type": "code",
      "execution_count": null,
      "metadata": {
        "colab": {
          "base_uri": "https://localhost:8080/"
        },
        "id": "A5A1DqlekqJI",
        "outputId": "1935cee1-5b19-458f-b56a-c40dde09a3fa"
      },
      "outputs": [
        {
          "output_type": "stream",
          "name": "stdout",
          "text": [
            "Hola Mundo\n"
          ]
        }
      ],
      "source": [
        "#1. Hola Mundo\n",
        "\n",
        "print(\"Hola Mundo\")"
      ]
    },
    {
      "cell_type": "code",
      "source": [
        "#2. Suma de dos numeros\n",
        "def suma_num(num1, num2):\n",
        "  suma = num1 + num2\n",
        "  return suma\n",
        "\n",
        "numero1 = float(input(\"Introduce un numero: \"))\n",
        "numero2 = float(input(\"Introduce otro numero: \"))\n",
        "\n",
        "resultado = suma_num (numero1, numero2)\n",
        "print(\"El resultado es: \", resultado)"
      ],
      "metadata": {
        "colab": {
          "base_uri": "https://localhost:8080/"
        },
        "id": "AhM6XuDXkwig",
        "outputId": "c4900172-d42b-490f-e7de-3f1733b22101"
      },
      "execution_count": null,
      "outputs": [
        {
          "output_type": "stream",
          "name": "stdout",
          "text": [
            "Introduce un numero: 5\n",
            "Introduce otro numero: 10\n",
            "El resultado es:  15.0\n"
          ]
        }
      ]
    },
    {
      "cell_type": "code",
      "source": [
        "#3. Par o Impar:\n",
        "def par_impar(numero):\n",
        "  if numero %2 == 0:\n",
        "    return \"El numero es par\"\n",
        "  else:\n",
        "    return \"El numero es impar\"\n",
        "\n",
        "numero = int(input(\"Introduce un numero: \"))\n",
        "print(par_impar(numero))"
      ],
      "metadata": {
        "colab": {
          "base_uri": "https://localhost:8080/"
        },
        "id": "9jWncPcPliHB",
        "outputId": "444ed966-1483-4cdb-c41d-5e45fd9c08ea"
      },
      "execution_count": null,
      "outputs": [
        {
          "output_type": "stream",
          "name": "stdout",
          "text": [
            "Introduce un numero: 57\n",
            "El numero es impar\n"
          ]
        }
      ]
    },
    {
      "cell_type": "code",
      "source": [
        "#4. Calculadora Básica\n",
        "def suma(num1, num2):\n",
        "    return num1 + num2\n",
        "\n",
        "def resta(num1, num2):\n",
        "    return num1 - num2\n",
        "\n",
        "def multiplicacion(num1, num2):\n",
        "    return num1 * num2\n",
        "\n",
        "def division(num1, num2):\n",
        "    if num2 != 0:\n",
        "        return num1 / num2\n",
        "    else:\n",
        "        return \"No se puede dividir entre cero\"\n",
        "\n",
        "num1 = float(input(\"Ingrese un numero: \"))\n",
        "num2 = float(input(\"Ingrese otro numero: \"))\n",
        "\n",
        "print(\"Suma: \", suma(num1, num2))\n",
        "print(\"Resta: \", resta(num1, num2))\n",
        "print(\"Multiplicacion: \", multiplicacion(num1, num2))\n",
        "print(\"Division: \", division(num1, num2))"
      ],
      "metadata": {
        "colab": {
          "base_uri": "https://localhost:8080/"
        },
        "id": "YMacQQqvmtwu",
        "outputId": "3aed5cdc-8bda-46f7-c90a-59a1d0694b43"
      },
      "execution_count": null,
      "outputs": [
        {
          "output_type": "stream",
          "name": "stdout",
          "text": [
            "Ingrese un numero: 1\n",
            "Ingrese otro numero: 2\n",
            "Suma:  3.0\n",
            "Resta:  -1.0\n",
            "Multiplicacion:  2.0\n",
            "Division:  0.5\n"
          ]
        }
      ]
    },
    {
      "cell_type": "code",
      "source": [
        "#5. Número mayor:\n",
        "\n",
        "try:\n",
        "    num1 = float(input(\"Ingrese el primer número: \"))\n",
        "    num2 = float(input(\"Ingrese el segundo número: \"))\n",
        "    num3 = float(input(\"Ingrese el tercer número: \"))\n",
        "except ValueError:\n",
        "    print(\"Error: Ingrese números válidos.\")\n",
        "    exit()\n",
        "\n",
        "if num1 >= num2 and num1 >= num3:\n",
        "    mayor = num1\n",
        "elif num2 >= num1 and num2 >= num3:\n",
        "    mayor = num2\n",
        "else:\n",
        "    mayor = num3\n",
        "\n",
        "# Mostrar el resultado\n",
        "print(f\"El mayor número entre {num1}, {num2} y {num3} es: {mayor}\")\n"
      ],
      "metadata": {
        "id": "2Jb1cAdJBr3M",
        "outputId": "05660cec-63c6-4b0f-e86e-9109e5ae88b0",
        "colab": {
          "base_uri": "https://localhost:8080/"
        }
      },
      "execution_count": null,
      "outputs": [
        {
          "output_type": "stream",
          "name": "stdout",
          "text": [
            "Ingrese el primer número: 1\n",
            "Ingrese el segundo número: 2\n",
            "Ingrese el tercer número: 3\n",
            "El mayor número entre 1.0, 2.0 y 3.0 es: 3.0\n"
          ]
        }
      ]
    },
    {
      "cell_type": "code",
      "source": [
        "#6. Calculo del area de un círculo\n",
        "\n",
        "import math\n",
        "\n",
        "try:\n",
        "    radio = float(input(\"Ingrese el radio del círculo: \"))\n",
        "except ValueError:\n",
        "    print(\"Error: Ingrese un número válido para el radio.\")\n",
        "    exit()\n",
        "\n",
        "area = math.pi * radio ** 2\n",
        "\n",
        "print(f\"El área del círculo con radio {radio} es: {area}\")\n"
      ],
      "metadata": {
        "id": "HYV9sIibB-Jc",
        "outputId": "0f7c3f7c-01ff-4812-fd75-5483e2d3ed31",
        "colab": {
          "base_uri": "https://localhost:8080/"
        }
      },
      "execution_count": null,
      "outputs": [
        {
          "output_type": "stream",
          "name": "stdout",
          "text": [
            "Ingrese el radio del círculo: 14\n",
            "El área del círculo con radio 14.0 es: 615.7521601035994\n"
          ]
        }
      ]
    },
    {
      "cell_type": "code",
      "source": [
        "#7. Conversión de grados Celsius a Fahrenheit\n",
        "\n",
        "try:\n",
        "    celsius = float(input(\"Ingrese la temperatura en grados Celsius: \"))\n",
        "except ValueError:\n",
        "    print(\"Error: Ingrese un número válido para la temperatura.\")\n",
        "    exit()\n",
        "\n",
        "fahrenheit = (celsius * 9/5) + 32\n",
        "\n",
        "print(f\"{celsius} grados Celsius equivalen a {fahrenheit} grados Fahrenheit.\")\n",
        "\n"
      ],
      "metadata": {
        "id": "mdvq3lZuCNRU",
        "outputId": "10394fb6-d964-49d4-b288-74bcfeae7359",
        "colab": {
          "base_uri": "https://localhost:8080/"
        }
      },
      "execution_count": null,
      "outputs": [
        {
          "output_type": "stream",
          "name": "stdout",
          "text": [
            "Ingrese la temperatura en grados Celsius: 45\n",
            "45.0 grados Celsius equivalen a 113.0 grados Fahrenheit.\n"
          ]
        }
      ]
    },
    {
      "cell_type": "code",
      "source": [
        "#8. Cuenta atrás\n",
        "\n",
        "for i in range(10, -1, -1):\n",
        "    print(i)\n",
        "\n"
      ],
      "metadata": {
        "id": "SWM7zcdCDcAc",
        "colab": {
          "base_uri": "https://localhost:8080/"
        },
        "outputId": "a88f3659-3c79-4210-f41f-c69bee3260ba"
      },
      "execution_count": 1,
      "outputs": [
        {
          "output_type": "stream",
          "name": "stdout",
          "text": [
            "10\n",
            "9\n",
            "8\n",
            "7\n",
            "6\n",
            "5\n",
            "4\n",
            "3\n",
            "2\n",
            "1\n",
            "0\n"
          ]
        }
      ]
    },
    {
      "cell_type": "code",
      "source": [
        "#9.Tabla de multiplicar\n",
        "\n",
        "numero = int(input(\"Introduce un número para ver su tabla de multiplicar: \"))\n",
        "\n",
        "print(f\"Tabla de multiplicar del {numero}:\")\n",
        "for i in range(1, 11):\n",
        "    producto = numero * i\n",
        "    print(f\"{numero} x {i} = {producto}\")\n"
      ],
      "metadata": {
        "colab": {
          "base_uri": "https://localhost:8080/"
        },
        "id": "Oy9ROx9wS_bR",
        "outputId": "3c00aaee-351b-41ad-947d-d7f6686c8fbd"
      },
      "execution_count": 2,
      "outputs": [
        {
          "output_type": "stream",
          "name": "stdout",
          "text": [
            "Introduce un número para ver su tabla de multiplicar: 5\n",
            "Tabla de multiplicar del 5:\n",
            "5 x 1 = 5\n",
            "5 x 2 = 10\n",
            "5 x 3 = 15\n",
            "5 x 4 = 20\n",
            "5 x 5 = 25\n",
            "5 x 6 = 30\n",
            "5 x 7 = 35\n",
            "5 x 8 = 40\n",
            "5 x 9 = 45\n",
            "5 x 10 = 50\n"
          ]
        }
      ]
    },
    {
      "cell_type": "code",
      "source": [
        "#10. Números primos\n",
        "\n",
        "def es_primo(numero):\n",
        "    if numero <= 1:\n",
        "        return False\n",
        "\n",
        "    for i in range(2, int(numero**0.5) + 1):\n",
        "        if numero % i == 0:\n",
        "            return False\n",
        "\n",
        "    return True\n",
        "\n",
        "numero = int(input(\"Introduce un número para verificar si es primo: \"))\n",
        "\n",
        "if es_primo(numero):\n",
        "    print(f\"{numero} es un número primo.\")\n",
        "else:\n",
        "    print(f\"{numero} no es un número primo.\")\n"
      ],
      "metadata": {
        "colab": {
          "base_uri": "https://localhost:8080/"
        },
        "id": "vBuWAU56TSqY",
        "outputId": "6c63af0e-8d34-4ec5-ba53-11c73718f9a4"
      },
      "execution_count": 3,
      "outputs": [
        {
          "output_type": "stream",
          "name": "stdout",
          "text": [
            "Introduce un número para verificar si es primo: 14\n",
            "14 no es un número primo.\n"
          ]
        }
      ]
    },
    {
      "cell_type": "code",
      "source": [
        "#11. Sumar números hasta un límite\n",
        "\n",
        "limite = int(input(\"Introduce un número límite para sumar los números naturales hasta ese número: \"))\n",
        "\n",
        "suma = 0\n",
        "\n",
        "for i in range(1, limite + 1):\n",
        "    suma += i\n",
        "\n",
        "print(f\"La suma de todos los números naturales hasta {limite} es: {suma}\")\n"
      ],
      "metadata": {
        "colab": {
          "base_uri": "https://localhost:8080/"
        },
        "id": "sJTIRHtQTlep",
        "outputId": "3e9d7a13-b01c-45ab-ff40-9e9fdeea8a84"
      },
      "execution_count": 4,
      "outputs": [
        {
          "output_type": "stream",
          "name": "stdout",
          "text": [
            "Introduce un número límite para sumar los números naturales hasta ese número: 4\n",
            "La suma de todos los números naturales hasta 4 es: 10\n"
          ]
        }
      ]
    },
    {
      "cell_type": "code",
      "source": [
        "#12. Invertir una cadena\n",
        "\n",
        "cadena = input(\"Introduce una cadena para invertirla: \")\n",
        "\n",
        "cadena_invertida = cadena[::-1]\n",
        "\n",
        "print(f\"La cadena invertida es: {cadena_invertida}\")\n"
      ],
      "metadata": {
        "colab": {
          "base_uri": "https://localhost:8080/"
        },
        "id": "nOlTpLMvT3Fq",
        "outputId": "b427d7bb-b9e7-4195-a652-dda713e0f804"
      },
      "execution_count": 5,
      "outputs": [
        {
          "output_type": "stream",
          "name": "stdout",
          "text": [
            "Introduce una cadena para invertirla: xd hola crack\n",
            "La cadena invertida es: kcarc aloh dx\n"
          ]
        }
      ]
    },
    {
      "cell_type": "code",
      "source": [
        "#13. Contar vocales\n",
        "\n",
        "cadena = input(\"Introduce una cadena para contar las vocales: \")\n",
        "\n",
        "contador_vocales = 0\n",
        "\n",
        "vocales = ['a', 'e', 'i', 'o', 'u', 'A', 'E', 'I', 'O', 'U']\n",
        "\n",
        "for caracter in cadena:\n",
        "    if caracter in vocales:\n",
        "        contador_vocales += 1\n",
        "\n",
        "print(f\"El número de vocales en la cadena es: {contador_vocales}\")\n"
      ],
      "metadata": {
        "colab": {
          "base_uri": "https://localhost:8080/"
        },
        "id": "HI9uBcjaUSs2",
        "outputId": "79fab21d-c873-42b9-8176-c97c40dc6c61"
      },
      "execution_count": 6,
      "outputs": [
        {
          "output_type": "stream",
          "name": "stdout",
          "text": [
            "Introduce una cadena para contar las vocales: cada cuanto comemos\n",
            "El número de vocales en la cadena es: 8\n"
          ]
        }
      ]
    },
    {
      "cell_type": "code",
      "source": [
        "#14. Palíndromo\n",
        "\n",
        "def es_palindromo(cadena):\n",
        "    cadena = cadena.lower().replace(\" \", \"\")\n",
        "    cadena_invertida = cadena[::-1]\n",
        "    if cadena == cadena_invertida:\n",
        "        return True\n",
        "    else:\n",
        "        return False\n",
        "\n",
        "cadena = input(\"Introduce una cadena para verificar si es un palíndromo: \")\n",
        "\n",
        "if es_palindromo(cadena):\n",
        "    print(f\"La cadena '{cadena}' es un palíndromo.\")\n",
        "else:\n",
        "    print(f\"La cadena '{cadena}' no es un palíndromo.\")\n"
      ],
      "metadata": {
        "colab": {
          "base_uri": "https://localhost:8080/"
        },
        "id": "9B2fImciVDoE",
        "outputId": "10010c59-1171-4b4a-b7b5-f063f08d7356"
      },
      "execution_count": 7,
      "outputs": [
        {
          "output_type": "stream",
          "name": "stdout",
          "text": [
            "Introduce una cadena para verificar si es un palíndromo: jaksadaksixd\n",
            "La cadena 'jaksadaksixd' no es un palíndromo.\n"
          ]
        }
      ]
    },
    {
      "cell_type": "code",
      "source": [
        "#15. Factorial de un número\n",
        "\n",
        "def factorial(numero):\n",
        "    if numero == 0:\n",
        "        return 1\n",
        "\n",
        "    resultado = 1\n",
        "\n",
        "    for i in range(1, numero + 1):\n",
        "        resultado *= i\n",
        "\n",
        "    return resultado\n",
        "\n",
        "numero = int(input(\"Introduce un número para calcular su factorial: \"))\n",
        "\n",
        "resultado_factorial = factorial(numero)\n",
        "print(f\"El factorial de {numero} es: {resultado_factorial}\")\n"
      ],
      "metadata": {
        "colab": {
          "base_uri": "https://localhost:8080/"
        },
        "id": "U7zK-4NfWYIT",
        "outputId": "1964db16-6f7e-4b2d-d1d3-1eb4865ba0c0"
      },
      "execution_count": 8,
      "outputs": [
        {
          "output_type": "stream",
          "name": "stdout",
          "text": [
            "Introduce un número para calcular su factorial: 15\n",
            "El factorial de 15 es: 1307674368000\n"
          ]
        }
      ]
    },
    {
      "cell_type": "code",
      "source": [
        "#16. Generar números aleatorios\n",
        "\n",
        "import random\n",
        "\n",
        "print(\"Generando 5 números aleatorios entre 1 y 100:\")\n",
        "for _ in range(5):\n",
        "    numero_aleatorio = random.randint(1, 100)\n",
        "    print(numero_aleatorio)\n"
      ],
      "metadata": {
        "colab": {
          "base_uri": "https://localhost:8080/"
        },
        "id": "RSslnkNxWvwM",
        "outputId": "f4ccb73d-2439-4b98-89d2-73f91c4c8d0e"
      },
      "execution_count": 9,
      "outputs": [
        {
          "output_type": "stream",
          "name": "stdout",
          "text": [
            "Generando 5 números aleatorios entre 1 y 100:\n",
            "10\n",
            "13\n",
            "18\n",
            "11\n",
            "98\n"
          ]
        }
      ]
    },
    {
      "cell_type": "code",
      "source": [
        "#17. Calculadora de índice de masa corporal (IMC)\n",
        "\n",
        "def calcular_imc(peso, altura):\n",
        "    altura_metros = altura / 100\n",
        "\n",
        "    imc = peso / (altura_metros ** 2)\n",
        "\n",
        "    return imc\n",
        "\n",
        "peso = float(input(\"Introduce tu peso en kilogramos: \"))\n",
        "\n",
        "altura = float(input(\"Introduce tu altura en centímetros: \"))\n",
        "\n",
        "imc = calcular_imc(peso, altura)\n",
        "\n",
        "print(f\"Tu Índice de Masa Corporal (IMC) es: {imc:.2f}\")\n"
      ],
      "metadata": {
        "colab": {
          "base_uri": "https://localhost:8080/"
        },
        "id": "NtMGjvjLXdER",
        "outputId": "6402cb1e-cf7d-4d58-a111-3eda697e2099"
      },
      "execution_count": 10,
      "outputs": [
        {
          "output_type": "stream",
          "name": "stdout",
          "text": [
            "Introduce tu peso en kilogramos: 54\n",
            "Introduce tu altura en centímetros: 1.75\n",
            "Tu Índice de Masa Corporal (IMC) es: 176326.53\n"
          ]
        }
      ]
    }
  ]
}
